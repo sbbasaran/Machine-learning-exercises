{
 "cells": [
  {
   "cell_type": "markdown",
   "id": "740cb0a7",
   "metadata": {},
   "source": [
    "# Tahmin analizi \n",
    "\n",
    "### Tahmin tespiti için SVM Regressior, Randon Forest Regressior ve Linear Regression makine öğrenmesi teknikleri kullanacağız. \n",
    "\n",
    "    1. Veri Seti Yükleme ve Temizleme\n",
    "\n",
    "    2. Değişkenler ayırma ve Veri Kümesinde Eğitim/Test verileri ayırma\n",
    "    \n",
    "    3. Makine Öğrenmesi Modelini Eğitme\n",
    "        \n",
    "    4. Tahminleyici Karşılaştırması - SVM, Random Forest ve Lineer Regresyon Modelleri\n",
    "    \n",
    "    5. Regresyon Modellerinin Performansının Karşılaştırılması için Metriklerin Hesaplanması\n"
   ]
  },
  {
   "cell_type": "markdown",
   "id": "a9040218",
   "metadata": {},
   "source": [
    "##     1. Veri Seti Yükleme ve Temizleme"
   ]
  },
  {
   "cell_type": "code",
   "execution_count": 15,
   "id": "089223f3",
   "metadata": {},
   "outputs": [],
   "source": [
    "# İlk olarak, Pandas ve Numpy kütüphanesini kullanarak veri setimizi yükleyeceğiz.\n",
    "\n",
    "import pandas as pd\n",
    "import numpy as np"
   ]
  },
  {
   "cell_type": "code",
   "execution_count": 16,
   "id": "3fb9447f",
   "metadata": {},
   "outputs": [],
   "source": [
    "# Veri setini yükleme \n",
    "\n",
    "df = pd.read_excel(\"/Users/ideakadikoy/Desktop/tahmin_200_250.xlsx\")"
   ]
  },
  {
   "cell_type": "code",
   "execution_count": 17,
   "id": "a6f474b1",
   "metadata": {},
   "outputs": [
    {
     "data": {
      "text/html": [
       "<div>\n",
       "<style scoped>\n",
       "    .dataframe tbody tr th:only-of-type {\n",
       "        vertical-align: middle;\n",
       "    }\n",
       "\n",
       "    .dataframe tbody tr th {\n",
       "        vertical-align: top;\n",
       "    }\n",
       "\n",
       "    .dataframe thead th {\n",
       "        text-align: right;\n",
       "    }\n",
       "</style>\n",
       "<table border=\"1\" class=\"dataframe\">\n",
       "  <thead>\n",
       "    <tr style=\"text-align: right;\">\n",
       "      <th></th>\n",
       "      <th>INDIS</th>\n",
       "      <th>DEGER</th>\n",
       "    </tr>\n",
       "  </thead>\n",
       "  <tbody>\n",
       "    <tr>\n",
       "      <th>0</th>\n",
       "      <td>1</td>\n",
       "      <td>95.112407</td>\n",
       "    </tr>\n",
       "    <tr>\n",
       "      <th>1</th>\n",
       "      <td>2</td>\n",
       "      <td>92.783107</td>\n",
       "    </tr>\n",
       "    <tr>\n",
       "      <th>2</th>\n",
       "      <td>3</td>\n",
       "      <td>2.001441</td>\n",
       "    </tr>\n",
       "    <tr>\n",
       "      <th>3</th>\n",
       "      <td>4</td>\n",
       "      <td>-71.68929</td>\n",
       "    </tr>\n",
       "    <tr>\n",
       "      <th>4</th>\n",
       "      <td>5</td>\n",
       "      <td>-41.582756</td>\n",
       "    </tr>\n",
       "  </tbody>\n",
       "</table>\n",
       "</div>"
      ],
      "text/plain": [
       "   INDIS      DEGER\n",
       "0      1  95.112407\n",
       "1      2  92.783107\n",
       "2      3   2.001441\n",
       "3      4  -71.68929\n",
       "4      5 -41.582756"
      ]
     },
     "execution_count": 17,
     "metadata": {},
     "output_type": "execute_result"
    }
   ],
   "source": [
    "df.head()"
   ]
  },
  {
   "cell_type": "code",
   "execution_count": 18,
   "id": "431b79c0",
   "metadata": {},
   "outputs": [
    {
     "data": {
      "text/html": [
       "<div>\n",
       "<style scoped>\n",
       "    .dataframe tbody tr th:only-of-type {\n",
       "        vertical-align: middle;\n",
       "    }\n",
       "\n",
       "    .dataframe tbody tr th {\n",
       "        vertical-align: top;\n",
       "    }\n",
       "\n",
       "    .dataframe thead th {\n",
       "        text-align: right;\n",
       "    }\n",
       "</style>\n",
       "<table border=\"1\" class=\"dataframe\">\n",
       "  <thead>\n",
       "    <tr style=\"text-align: right;\">\n",
       "      <th></th>\n",
       "      <th>INDIS</th>\n",
       "    </tr>\n",
       "  </thead>\n",
       "  <tbody>\n",
       "    <tr>\n",
       "      <th>count</th>\n",
       "      <td>250.000000</td>\n",
       "    </tr>\n",
       "    <tr>\n",
       "      <th>mean</th>\n",
       "      <td>125.500000</td>\n",
       "    </tr>\n",
       "    <tr>\n",
       "      <th>std</th>\n",
       "      <td>72.312977</td>\n",
       "    </tr>\n",
       "    <tr>\n",
       "      <th>min</th>\n",
       "      <td>1.000000</td>\n",
       "    </tr>\n",
       "    <tr>\n",
       "      <th>25%</th>\n",
       "      <td>63.250000</td>\n",
       "    </tr>\n",
       "    <tr>\n",
       "      <th>50%</th>\n",
       "      <td>125.500000</td>\n",
       "    </tr>\n",
       "    <tr>\n",
       "      <th>75%</th>\n",
       "      <td>187.750000</td>\n",
       "    </tr>\n",
       "    <tr>\n",
       "      <th>max</th>\n",
       "      <td>250.000000</td>\n",
       "    </tr>\n",
       "  </tbody>\n",
       "</table>\n",
       "</div>"
      ],
      "text/plain": [
       "            INDIS\n",
       "count  250.000000\n",
       "mean   125.500000\n",
       "std     72.312977\n",
       "min      1.000000\n",
       "25%     63.250000\n",
       "50%    125.500000\n",
       "75%    187.750000\n",
       "max    250.000000"
      ]
     },
     "execution_count": 18,
     "metadata": {},
     "output_type": "execute_result"
    }
   ],
   "source": [
    "df.describe()"
   ]
  },
  {
   "cell_type": "code",
   "execution_count": 55,
   "id": "d7b94d2a",
   "metadata": {},
   "outputs": [
    {
     "data": {
      "text/plain": [
       "INDIS    0\n",
       "DEGER    0\n",
       "dtype: int64"
      ]
     },
     "execution_count": 55,
     "metadata": {},
     "output_type": "execute_result"
    }
   ],
   "source": [
    "df.isnull().sum()\n",
    "\n",
    "# toplam kaç hücrede eksik değer (NaN ya da None) olduğunu gözlemliyoruz. Burada 250 satırlık veri setimizde 50 değerin zaten tahmin etmemizi isteniyordu. "
   ]
  },
  {
   "cell_type": "code",
   "execution_count": 50,
   "id": "43e77746",
   "metadata": {},
   "outputs": [],
   "source": [
    "# 50 tane \"?\" işaretleri ile işaretlenmiş değerleri NaN ile değiştiriyoruz.\n",
    "df.replace(\"?\", np.nan, inplace=True)"
   ]
  },
  {
   "cell_type": "code",
   "execution_count": 51,
   "id": "f7278a82",
   "metadata": {},
   "outputs": [],
   "source": [
    "# Sonra NaN değerlerini DEĞER sütunünda yer alan değerlerin ortalamasını alıp NAN degerleri yerine dolduruyoruz\n",
    "df.fillna(df.mean(), inplace=True)"
   ]
  },
  {
   "cell_type": "markdown",
   "id": "41bb92f6",
   "metadata": {},
   "source": [
    "## 2. Değişkenler ayırma ve Veri Kümesinde Eğitim/Test verileri ayırma\n"
   ]
  },
  {
   "cell_type": "code",
   "execution_count": 52,
   "id": "20594115",
   "metadata": {},
   "outputs": [],
   "source": [
    "# Giriş verilerini ve hedef değişkeni ayır\n",
    "X = df.drop(\"DEGER\", axis=1) # \"DEGER\" adlı sütunu kaldırarak yeni bir DataFrame döndüroyruz.\n",
    "y = df[\"DEGER\"]"
   ]
  },
  {
   "cell_type": "code",
   "execution_count": 53,
   "id": "9bcdaac4",
   "metadata": {},
   "outputs": [],
   "source": [
    "# Veri kümesini eğitim ve test verilerine ayır\n",
    "from sklearn.model_selection import train_test_split\n",
    "X_train, X_test, y_train, y_test = train_test_split(X, y, test_size=0.2, random_state=42)\n",
    "\n",
    "# Scikit-learn kütüphanesinin model_selection modülünden train_test_split fonksiyonunu verilerinizi eğitim ve test setleri olarak bölmenizi sağlar.\n",
    "# test_size parametresi, verilerinizi bölmenin ne kadarını test seti olarak kullanacağınızı belirler. \n",
    "#Burada, verilerin %20test %80Egitim seti olarak kullanılmasını seçtim.\n",
    "# random_state parametresi, her çalıştırmada verilerin aynı şekilde bölünmesini sağlamak için kullanılan bir rastgele sayıdır.\n"
   ]
  },
  {
   "cell_type": "markdown",
   "id": "e7ab1651",
   "metadata": {},
   "source": [
    "##  3. Makine Öğrenmesi Modelini Eğitme\n",
    "\n",
    "1. SVR = SVM regresyonu (SVM Regression), regresyon problemlerinde kullanılan bir SVM türüdür. SVM regresyonu, veriler arasındaki doğrusal veya doğrusal olmayan ilişkiyi tahmin etmek için kullanılır. Bu algoritma, bir eğitim setindeki verilerin belirli bir sınırlar aralığında olduğu varsayımına dayanır.\n",
    "\n",
    "\n",
    "2. Random Forest = Scikit-learn kütüphanesinin ensemble modülü içinde yer alan RandomForestRegressor sınıfı, bu algoritmanın bir uygulamasıdır. Bu sınıf, rastgele seçilen özelliklerin alt kümesiyle birlikte birçok karar ağacı oluşturur ve sonuçları birleştirerek regresyon problemini çözer. Aynı zamanda, overfitting'e (aşırı öğrenmeye) karşı dirençli olmak için gürbüz bir yöntem olarak kabul edilir.\n",
    "\n",
    "\n",
    "\n",
    "3. Linear Regression = Lineer regresyon, bir bağımlı değişkenin (outcome variable) bir veya daha fazla bağımsız değişkenle (predictor variable) olan ilişkisini açıklamak için kullanılan bir istatistiksel modelleme yöntemidir. Temel olarak, bu yöntem, verilerdeki değişkenler arasındaki ilişkiyi bir doğru ile ifade eder ve bu doğru üzerinde yeni tahminler yapılabilir.\n"
   ]
  },
  {
   "cell_type": "code",
   "execution_count": 56,
   "id": "e4ea8ee4",
   "metadata": {},
   "outputs": [],
   "source": [
    "# scikit-learn kütüphanesinden Modellerimi çağıyoruz\n",
    "\n",
    "from sklearn.svm import SVR\n",
    "from sklearn.ensemble import RandomForestRegressor\n",
    "from sklearn.linear_model import LinearRegression"
   ]
  },
  {
   "cell_type": "code",
   "execution_count": 57,
   "id": "4aff08f5",
   "metadata": {},
   "outputs": [],
   "source": [
    "svm_reg = SVR(kernel=\"linear\") # Kernel parametresi lineer çekirdek kullanarak regresyon yapacağı belirtilmişt\n",
    "rf_reg = RandomForestRegressor(random_state=42) # random_state ile rastgelelik kontrol ediyoruz.\n",
    "lr_reg = LinearRegression(fit_intercept=True, normalize=False) # fit_intercept: Bu parametre, eğriye bir y-kesit eklemek için kullanılır. "
   ]
  },
  {
   "cell_type": "code",
   "execution_count": 58,
   "id": "16e92c53",
   "metadata": {},
   "outputs": [
    {
     "data": {
      "text/plain": [
       "LinearRegression()"
      ]
     },
     "execution_count": 58,
     "metadata": {},
     "output_type": "execute_result"
    }
   ],
   "source": [
    "svm_reg.fit(X_train, y_train)\n",
    "rf_reg.fit(X_train, y_train)\n",
    "lr_reg.fit(X_train, y_train)"
   ]
  },
  {
   "cell_type": "code",
   "execution_count": 59,
   "id": "627d902b",
   "metadata": {},
   "outputs": [],
   "source": [
    "# Tahminleri yap\n",
    "svm_pred = svm_reg.predict(X_test)\n",
    "rf_pred = rf_reg.predict(X_test)\n",
    "lr_pred = lr_reg.predict(X_test)"
   ]
  },
  {
   "cell_type": "markdown",
   "id": "3f9da4d5",
   "metadata": {},
   "source": [
    "## Tahminleyici Karşılaştırması - SVM, Random Forest ve Lineer Regresyon Modelleri\n",
    "\n",
    "1. Bu görselleştirme, farklı makine öğrenimi modelleriyle (SVM, Random Forest, Lineer Regresyon) tahmin edilen değerlerin gerçek değerlerle karşılaştırılmasını göstermektedir. \n",
    "\n",
    "2. Tahmin edilen değerleri her bir model için görmek için, öncelikle her bir modelin 200. satırdan sonraki  tahminlerini"
   ]
  },
  {
   "cell_type": "code",
   "execution_count": 60,
   "id": "e1a8dc85",
   "metadata": {},
   "outputs": [],
   "source": [
    "svm_y_pred = svm_reg.predict(X[200:])"
   ]
  },
  {
   "cell_type": "code",
   "execution_count": 61,
   "id": "a7153692",
   "metadata": {},
   "outputs": [
    {
     "name": "stdout",
     "output_type": "stream",
     "text": [
      "[101.02324999 101.10601046 101.18877093 101.2715314  101.35429187\n",
      " 101.43705234 101.51981281 101.60257328 101.68533375 101.76809422\n",
      " 101.85085469 101.93361516 102.01637562 102.09913609 102.18189656\n",
      " 102.26465703 102.3474175  102.43017797 102.51293844 102.59569891\n",
      " 102.67845938 102.76121985 102.84398032 102.92674078 103.00950125\n",
      " 103.09226172 103.17502219 103.25778266 103.34054313 103.4233036\n",
      " 103.50606407 103.58882454 103.67158501 103.75434548 103.83710594\n",
      " 103.91986641 104.00262688 104.08538735 104.16814782 104.25090829\n",
      " 104.33366876 104.41642923 104.4991897  104.58195017 104.66471064\n",
      " 104.7474711  104.83023157 104.91299204 104.99575251 105.07851298]\n"
     ]
    }
   ],
   "source": [
    "print(svm_y_pred)"
   ]
  },
  {
   "cell_type": "code",
   "execution_count": 62,
   "id": "a3b57c5a",
   "metadata": {},
   "outputs": [],
   "source": [
    "rf_y_pred = rf_reg.predict(X[200:])"
   ]
  },
  {
   "cell_type": "code",
   "execution_count": 63,
   "id": "264e65d8",
   "metadata": {},
   "outputs": [
    {
     "name": "stdout",
     "output_type": "stream",
     "text": [
      "[202.84363708 130.79459037 106.68749837 102.11637562 102.11637562\n",
      " 102.11637562 102.11637562 102.11637562 102.11637562 102.11637562\n",
      " 102.11637562 102.11637562 102.11637562 102.11637562 102.11637562\n",
      " 102.11637562 102.11637562 102.11637562 102.11637562 102.11637562\n",
      " 102.11637562 102.11637562 102.11637562 102.11637562 102.11637562\n",
      " 102.11637562 102.11637562 102.11637562 102.11637562 102.11637562\n",
      " 102.11637562 102.11637562 102.11637562 102.11637562 102.11637562\n",
      " 102.11637562 102.11637562 102.11637562 102.11637562 102.11637562\n",
      " 102.11637562 102.11637562 102.11637562 102.11637562 102.11637562\n",
      " 102.11637562 102.11637562 102.11637562 102.11637562 102.11637562]\n"
     ]
    }
   ],
   "source": [
    "print(rf_y_pred)"
   ]
  },
  {
   "cell_type": "code",
   "execution_count": 64,
   "id": "5af33940",
   "metadata": {},
   "outputs": [
    {
     "name": "stdout",
     "output_type": "stream",
     "text": [
      "[136.30814719 136.74207251 137.17599783 137.60992315 138.04384846\n",
      " 138.47777378 138.9116991  139.34562442 139.77954974 140.21347506\n",
      " 140.64740038 141.0813257  141.51525102 141.94917634 142.38310165\n",
      " 142.81702697 143.25095229 143.68487761 144.11880293 144.55272825\n",
      " 144.98665357 145.42057889 145.85450421 146.28842953 146.72235484\n",
      " 147.15628016 147.59020548 148.0241308  148.45805612 148.89198144\n",
      " 149.32590676 149.75983208 150.1937574  150.62768272 151.06160803\n",
      " 151.49553335 151.92945867 152.36338399 152.79730931 153.23123463\n",
      " 153.66515995 154.09908527 154.53301059 154.9669359  155.40086122\n",
      " 155.83478654 156.26871186 156.70263718 157.1365625  157.57048782]\n"
     ]
    }
   ],
   "source": [
    "lr_y_pred = lr_reg.predict(X[200:])\n",
    "print(lr_y_pred)"
   ]
  },
  {
   "cell_type": "code",
   "execution_count": 65,
   "id": "1b02037b",
   "metadata": {},
   "outputs": [
    {
     "data": {
      "image/png": "[encoded data removed]",
      "text/plain": [
       "<Figure size 720x432 with 1 Axes>"
      ]
     },
     "metadata": {},
     "output_type": "display_data"
    }
   ],
   "source": [
    "# Görselleştirme\n",
    "import matplotlib.pyplot as plt\n",
    "plt.figure(figsize=(10,6))\n",
    "\n",
    "\n",
    "plt.scatter(y_test, svm_pred, color=\"red\", label=\"SVM\")\n",
    "plt.scatter(y_test, rf_pred, color=\"blue\", label=\"Random Forest\")\n",
    "plt.scatter(y_test, lr_pred, color=\"green\", label=\"Linear Regression\")\n",
    "\n",
    "plt.xlabel(\"Gerçek Değerler\")\n",
    "plt.ylabel(\"Tahmin Edilen Değerler\")\n",
    "plt.title(\"Tahminleyici Karşılaştırması\")\n",
    "plt.legend()\n",
    "plt.show()"
   ]
  },
  {
   "cell_type": "markdown",
   "id": "adaccb31",
   "metadata": {},
   "source": [
    "## Regresyon Modellerinin Performansının Karşılaştırılması için Metriklerin Hesaplanması\n",
    "    \n",
    "    * Burada, y_test gerçek değerler, svm_y_pred, rf_y_pred ve lr_y_pred ise sırasıyla SVM Regressor, Random Forest Regressor ve Lineer Regresyon modellerinin tahminleri yer almaktadır. R2_score, mean_squared_error ve mean_absolute_error fonksiyonları, sırasıyla R-kare, MSE ve MAE metriklerini hesaplamak için kullanılır.\n",
    "    \n",
    "    R-Kare (R-Squared) Skoru: R-kare skoru, bağımsız değişkenlerin bağımlı değişkendeki varyasyonu açıklama yüzdesini ölçer. 1'e ne kadar yakınsa, modelin bağımlı değişkendeki varyasyonu o kadar iyi açıkladığı anlamına gelir.\n",
    "\n",
    "    Ortalama Kare Hata (Mean Squared Error): MSE, model tahminlerinin gerçek değerlerden ne kadar uzak olduğunu ölçer. Daha düşük bir MSE, modelin daha iyi bir performans gösterdiği anlamına gelir.\n",
    "\n",
    "    Ortalama Mutlak Hata (Mean Absolute Error): MAE, model tahminlerinin gerçek değerlerden ortalama olarak ne kadar uzak olduğunu ölçer. Daha düşük bir MAE, modelin daha iyi bir performans gösterdiği anlamına gelir."
   ]
  },
  {
   "cell_type": "code",
   "execution_count": 44,
   "id": "2992c496",
   "metadata": {},
   "outputs": [],
   "source": [
    "from sklearn.metrics import r2_score, mean_squared_error, mean_absolute_error\n",
    "\n",
    "# SVM Regressor\n",
    "svm_r2 = r2_score(y_test, svm_y_pred)\n",
    "svm_mse = mean_squared_error(y_test, svm_y_pred)\n",
    "svm_mae = mean_absolute_error(y_test, svm_y_pred)\n",
    "\n",
    "# Random Forest Regressor\n",
    "rf_r2 = r2_score(y_test, rf_y_pred)\n",
    "rf_mse = mean_squared_error(y_test, rf_y_pred)\n",
    "rf_mae = mean_absolute_error(y_test, rf_y_pred)\n",
    "\n",
    "# Linear Regression\n",
    "lr_r2 = r2_score(y_test, lr_y_pred)\n",
    "lr_mse = mean_squared_error(y_test, lr_y_pred)\n",
    "lr_mae = mean_absolute_error(y_test, lr_y_pred)\n"
   ]
  },
  {
   "cell_type": "code",
   "execution_count": 45,
   "id": "1e2c053b",
   "metadata": {},
   "outputs": [
    {
     "name": "stdout",
     "output_type": "stream",
     "text": [
      "SVM Regressor R-Squared:  -0.012708655986675366\n",
      "SVM Regressor MSE:  7035.3326466358985\n",
      "SVM Regressor MAE:  63.48983712696119\n"
     ]
    }
   ],
   "source": [
    "print(\"SVM Regressor R-Squared: \", svm_r2)\n",
    "print(\"SVM Regressor MSE: \", svm_mse)\n",
    "print(\"SVM Regressor MAE: \", svm_mae)"
   ]
  },
  {
   "cell_type": "code",
   "execution_count": 46,
   "id": "6a4027de",
   "metadata": {},
   "outputs": [
    {
     "name": "stdout",
     "output_type": "stream",
     "text": [
      "Random Forest Regressor R-Squared:  0.032857642808280185\n",
      "Random Forest Regressor MSE:  6718.781516551813\n",
      "Random Forest Regressor MAE:  60.590162300193704\n"
     ]
    }
   ],
   "source": [
    "print(\"Random Forest Regressor R-Squared: \", rf_r2)\n",
    "print(\"Random Forest Regressor MSE: \", rf_mse)\n",
    "print(\"Random Forest Regressor MAE: \", rf_mae)"
   ]
  },
  {
   "cell_type": "code",
   "execution_count": 47,
   "id": "3c6576a4",
   "metadata": {},
   "outputs": [
    {
     "name": "stdout",
     "output_type": "stream",
     "text": [
      "Linear Regression R-Squared:  -0.4115294195417536\n",
      "Linear Regression MSE:  9805.958454372863\n",
      "Linear Regression MAE:  77.34165021291592\n"
     ]
    }
   ],
   "source": [
    "print(\"Linear Regression R-Squared: \", lr_r2)\n",
    "print(\"Linear Regression MSE: \", lr_mse)\n",
    "print(\"Linear Regression MAE: \", lr_mae)"
   ]
  },
  {
   "cell_type": "markdown",
   "id": "eda9c840",
   "metadata": {},
   "source": []
  }
 ],
 "metadata": {
  "kernelspec": {
   "display_name": "Python 3",
   "language": "python",
   "name": "python3"
  },
  "language_info": {
   "codemirror_mode": {
    "name": "ipython",
    "version": 3
   },
   "file_extension": ".py",
   "mimetype": "text/x-python",
   "name": "python",
   "nbconvert_exporter": "python",
   "pygments_lexer": "ipython3",
   "version": "3.8.2"
  }
 },
 "nbformat": 4,
 "nbformat_minor": 5
}
