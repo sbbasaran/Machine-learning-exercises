{
 "cells": [
  {
   "cell_type": "markdown",
   "id": "bcaf51bb",
   "metadata": {},
   "source": [
    "## İlk olarak, Pandas kütüphanesini kullanarak veri setimizi yükleyeceğiz.\n",
    "\n",
    "### Anomali tespiti için Z-Score ve One-Class SVM makine öğrenmesi teknikleri kullanacağız. \n",
    "    1. Burada, basit bir yöntem olan Z-score kullanacağız. \n",
    "       Bu yöntem, bir veri noktasının ortalama değerden ne kadar uzak olduğunu hesaplar ve belirli bir eşik değeri  üzerinde olan noktaları anomali olarak işaretler.\n",
    "\n",
    "    2. One-Class SVM - Veri setindeki anomali gözlemleri tespit edebilir.\n"
   ]
  },
  {
   "cell_type": "code",
   "execution_count": 1,
   "id": "c160b096",
   "metadata": {},
   "outputs": [],
   "source": [
    "# İlk olarak, Pandas kütüphanesini kullanarak veri setimizi yükleyeceğiz.\n",
    "\n",
    "import pandas as pd\n",
    "import matplotlib.pyplot as plt\n",
    "\n",
    "data = pd.read_excel(\"/Users/ideakadikoy/Desktop/anomali_data.xlsx\")"
   ]
  },
  {
   "cell_type": "code",
   "execution_count": 2,
   "id": "445117fb",
   "metadata": {},
   "outputs": [
    {
     "data": {
      "text/html": [
       "<div>\n",
       "<style scoped>\n",
       "    .dataframe tbody tr th:only-of-type {\n",
       "        vertical-align: middle;\n",
       "    }\n",
       "\n",
       "    .dataframe tbody tr th {\n",
       "        vertical-align: top;\n",
       "    }\n",
       "\n",
       "    .dataframe thead th {\n",
       "        text-align: right;\n",
       "    }\n",
       "</style>\n",
       "<table border=\"1\" class=\"dataframe\">\n",
       "  <thead>\n",
       "    <tr style=\"text-align: right;\">\n",
       "      <th></th>\n",
       "      <th>INDIS</th>\n",
       "      <th>DEGER</th>\n",
       "    </tr>\n",
       "  </thead>\n",
       "  <tbody>\n",
       "    <tr>\n",
       "      <th>0</th>\n",
       "      <td>1</td>\n",
       "      <td>0.74</td>\n",
       "    </tr>\n",
       "    <tr>\n",
       "      <th>1</th>\n",
       "      <td>2</td>\n",
       "      <td>0.93</td>\n",
       "    </tr>\n",
       "    <tr>\n",
       "      <th>2</th>\n",
       "      <td>3</td>\n",
       "      <td>1.11</td>\n",
       "    </tr>\n",
       "    <tr>\n",
       "      <th>3</th>\n",
       "      <td>4</td>\n",
       "      <td>1.29</td>\n",
       "    </tr>\n",
       "    <tr>\n",
       "      <th>4</th>\n",
       "      <td>5</td>\n",
       "      <td>1.44</td>\n",
       "    </tr>\n",
       "  </tbody>\n",
       "</table>\n",
       "</div>"
      ],
      "text/plain": [
       "   INDIS  DEGER\n",
       "0      1   0.74\n",
       "1      2   0.93\n",
       "2      3   1.11\n",
       "3      4   1.29\n",
       "4      5   1.44"
      ]
     },
     "execution_count": 2,
     "metadata": {},
     "output_type": "execute_result"
    }
   ],
   "source": [
    "data.head()"
   ]
  },
  {
   "cell_type": "code",
   "execution_count": 3,
   "id": "cefb07ba",
   "metadata": {},
   "outputs": [
    {
     "name": "stdout",
     "output_type": "stream",
     "text": [
      "Index(['INDIS', 'DEGER'], dtype='object')\n",
      "Anamoly Değişkenleri Görselleştirmesi \n",
      "\n"
     ]
    },
    {
     "data": {
      "image/png": "[encoded data removed]",
      "text/plain": [
       "<Figure size 2160x216 with 2 Axes>"
      ]
     },
     "metadata": {},
     "output_type": "display_data"
    }
   ],
   "source": [
    "anamoly=data.describe().columns\n",
    "print(anamoly)\n",
    "print(\"Anamoly Değişkenleri Görselleştirmesi\", \"\\n\")\n",
    "plt.style.use(\"ggplot\")\n",
    "data.hist(column=anamoly,figsize=(30,3))\n",
    "plt.show()"
   ]
  },
  {
   "cell_type": "code",
   "execution_count": 4,
   "id": "6e775895",
   "metadata": {},
   "outputs": [
    {
     "data": {
      "text/html": [
       "<div>\n",
       "<style scoped>\n",
       "    .dataframe tbody tr th:only-of-type {\n",
       "        vertical-align: middle;\n",
       "    }\n",
       "\n",
       "    .dataframe tbody tr th {\n",
       "        vertical-align: top;\n",
       "    }\n",
       "\n",
       "    .dataframe thead th {\n",
       "        text-align: right;\n",
       "    }\n",
       "</style>\n",
       "<table border=\"1\" class=\"dataframe\">\n",
       "  <thead>\n",
       "    <tr style=\"text-align: right;\">\n",
       "      <th></th>\n",
       "      <th>INDIS</th>\n",
       "      <th>DEGER</th>\n",
       "    </tr>\n",
       "  </thead>\n",
       "  <tbody>\n",
       "    <tr>\n",
       "      <th>count</th>\n",
       "      <td>226.000000</td>\n",
       "      <td>226.000000</td>\n",
       "    </tr>\n",
       "    <tr>\n",
       "      <th>mean</th>\n",
       "      <td>113.500000</td>\n",
       "      <td>0.309867</td>\n",
       "    </tr>\n",
       "    <tr>\n",
       "      <th>std</th>\n",
       "      <td>65.384759</td>\n",
       "      <td>1.197338</td>\n",
       "    </tr>\n",
       "    <tr>\n",
       "      <th>min</th>\n",
       "      <td>1.000000</td>\n",
       "      <td>-2.280000</td>\n",
       "    </tr>\n",
       "    <tr>\n",
       "      <th>25%</th>\n",
       "      <td>57.250000</td>\n",
       "      <td>-0.357500</td>\n",
       "    </tr>\n",
       "    <tr>\n",
       "      <th>50%</th>\n",
       "      <td>113.500000</td>\n",
       "      <td>0.450000</td>\n",
       "    </tr>\n",
       "    <tr>\n",
       "      <th>75%</th>\n",
       "      <td>169.750000</td>\n",
       "      <td>0.910000</td>\n",
       "    </tr>\n",
       "    <tr>\n",
       "      <th>max</th>\n",
       "      <td>226.000000</td>\n",
       "      <td>2.740000</td>\n",
       "    </tr>\n",
       "  </tbody>\n",
       "</table>\n",
       "</div>"
      ],
      "text/plain": [
       "            INDIS       DEGER\n",
       "count  226.000000  226.000000\n",
       "mean   113.500000    0.309867\n",
       "std     65.384759    1.197338\n",
       "min      1.000000   -2.280000\n",
       "25%     57.250000   -0.357500\n",
       "50%    113.500000    0.450000\n",
       "75%    169.750000    0.910000\n",
       "max    226.000000    2.740000"
      ]
     },
     "execution_count": 4,
     "metadata": {},
     "output_type": "execute_result"
    }
   ],
   "source": [
    "data.describe()"
   ]
  },
  {
   "cell_type": "code",
   "execution_count": 5,
   "id": "00b40657",
   "metadata": {},
   "outputs": [],
   "source": [
    "# Veri setimiz iki kolondan oluşuyor, bu yüzden \"DEGER\" kolonunu seçip bir diziye aktaracağız:\n",
    "\n",
    "b_col = data['DEGER'].values  # Bir sözlüğün değerlerini ise values() metodu verir:\n",
    "\n",
    "#Gördüğünüz gibi, bu metottan bir dict_values nesnesi alıyoruz. values() metodu bu çıktıyı başka veri tiplerine dönüştürme imkanına sağlamaktadır.\n"
   ]
  },
  {
   "cell_type": "code",
   "execution_count": 6,
   "id": "0a62f3c9",
   "metadata": {},
   "outputs": [
    {
     "data": {
      "text/plain": [
       "array([ 0.74,  0.93,  1.11,  1.29,  1.44,  1.61,  1.76,  1.82,  1.99,\n",
       "        2.13,  2.27,  2.36,  2.41,  2.56,  2.58,  2.67,  2.71,  2.74,\n",
       "        2.7 ,  2.74,  2.66,  2.66,  2.64,  2.61,  2.57,  2.52,  2.39,\n",
       "        2.32,  2.25,  2.12,  2.06,  1.95,  1.85,  1.71,  1.65,  1.49,\n",
       "        1.37,  1.27,  1.16,  1.12,  1.05,  0.93,  0.82,  0.73,  0.72,\n",
       "        0.63,  0.54,  0.54,  0.5 ,  0.44,  0.42,  0.35,  0.38,  0.37,\n",
       "        0.41,  0.4 ,  0.39,  0.45,  0.39,  0.45,  0.46,  0.52,  0.52,\n",
       "        0.57,  0.57,  0.64,  0.65,  0.68,  0.66,  0.7 ,  0.7 ,  2.12,\n",
       "        0.63,  0.6 ,  0.61,  0.54,  0.49,  0.46,  0.41,  0.37,  0.23,\n",
       "        0.19,  0.11,  0.03, -0.09, -0.21, -0.36, -0.47, -0.58, -0.69,\n",
       "       -0.86, -0.99, -1.04, -1.16, -1.28, -1.44, -1.53, -1.64, -1.72,\n",
       "       -1.89, -1.95, -1.98, -2.07, -2.17, -2.13, -2.25, -2.25, -2.28,\n",
       "       -2.2 , -2.19, -2.25, -2.19, -2.16, -2.02, -2.01, -1.87, -1.85,\n",
       "       -1.68, -1.62, -1.51, -2.12, -1.22, -1.06, -0.99, -0.82, -0.64,\n",
       "       -0.49, -0.4 , -0.25, -0.1 ,  0.05,  0.16,  0.25,  0.38,  0.51,\n",
       "        0.56,  0.66,  0.71,  0.81,  0.83,  0.93,  0.9 ,  1.02,  1.  ,\n",
       "        0.95,  0.98,  0.95,  0.98,  0.92,  0.82,  0.76,  0.74,  0.67,\n",
       "        0.59,  0.56,  0.42,  0.31,  0.29,  0.23,  0.13, -0.01, -0.11,\n",
       "       -0.16, -0.19, -0.28, -0.35, -0.46, -0.45, -0.53, -0.52,  0.91,\n",
       "       -0.62, -0.59, -0.58, -0.6 , -0.6 , -0.62, -0.59, -0.47, -0.45,\n",
       "       -0.38, -0.34, -0.23, -0.19, -0.17, -0.03,  0.06,  0.12,  0.24,\n",
       "        0.32,  0.33,  0.45,  0.52,  0.55,  0.64,  0.68,  0.77,  0.78,\n",
       "        0.88,  0.92,  0.87,  0.91,  0.94,  0.91,  0.96,  0.97,  0.91,\n",
       "        0.85,  0.88,  0.76,  0.73,  0.71,  0.6 ,  0.56,  0.4 ,  0.34,\n",
       "        0.32,  0.25,  0.16,  0.02, -0.06, -0.14, -0.15, -0.31, -0.31,\n",
       "       -0.4 ])"
      ]
     },
     "execution_count": 6,
     "metadata": {},
     "output_type": "execute_result"
    }
   ],
   "source": [
    "b_col"
   ]
  },
  {
   "cell_type": "markdown",
   "id": "8e36f515",
   "metadata": {},
   "source": [
    "## Feature Scaling \n",
    "\n",
    "### Normalizasyon için python’da sklearn kütüphanesinden StandardScaler yüklememiz gereklidir. data veri setindeki sayısal değerleri StandartScaler ile –1 ile 1 aralığına dönüştürebiliriz.\n"
   ]
  },
  {
   "cell_type": "code",
   "execution_count": 7,
   "id": "0dfef36c",
   "metadata": {},
   "outputs": [
    {
     "name": "stderr",
     "output_type": "stream",
     "text": [
      "/Users/ideakadikoy/Desktop/anaconda3/lib/python3.8/site-packages/scipy/__init__.py:138: UserWarning: A NumPy version >=1.16.5 and <1.23.0 is required for this version of SciPy (detected version 1.23.3)\n",
      "  warnings.warn(f\"A NumPy version >={np_minversion} and <{np_maxversion} is required for this version of \"\n"
     ]
    }
   ],
   "source": [
    "# Z-score'u hesaplamak için Scikit-learn kütüphanesinden StandardScaler'ı kullanacağız.\n",
    "\n",
    "\n",
    "kolon=data.columns # önce sütun adlarını al\n",
    "from sklearn.preprocessing import StandardScaler\n",
    "\n",
    "#Ölçeklenecek nesneyi oluşturalım\n",
    "scaler = StandardScaler() \n",
    "# Değişkenleri, ortalaması 0 std sapması 1 olan bir dağılıma çeviriyor. \n",
    "#Böylelikle veri setindeki tüm gözlem birimleri -1 ile 1 arasında değer almış oluyor. z = (x — u) / s\n",
    "\n",
    "b_col_scaled = scaler.fit_transform(b_col.reshape(-1,1))\n",
    "#b_col dizisini 2D bir diziye dönüştürmemiz gerekiyor çünkü \"StandardScaler\" sadece 2D dizilerle çalışmaktadır"
   ]
  },
  {
   "cell_type": "code",
   "execution_count": 8,
   "id": "88fdfd8d",
   "metadata": {},
   "outputs": [],
   "source": [
    "#Z-score'ları hesaplamak için NumPy kütüphanesini kullanacağız.\n",
    "\n",
    "import numpy as np\n",
    "\n",
    "z_scores = np.abs(b_col_scaled)"
   ]
  },
  {
   "cell_type": "code",
   "execution_count": 9,
   "id": "2805b232",
   "metadata": {},
   "outputs": [],
   "source": [
    "threshold = 2.5\n",
    "\n",
    "anomaly_mask = z_scores > threshold\n",
    "\n",
    "anomaly_indices = np.where(anomaly_mask)[0]\n",
    "\n",
    "anomaly_values = b_col[anomaly_indices]"
   ]
  },
  {
   "cell_type": "code",
   "execution_count": 10,
   "id": "5f34e100",
   "metadata": {},
   "outputs": [],
   "source": [
    "import matplotlib.pyplot as plt\n"
   ]
  },
  {
   "cell_type": "code",
   "execution_count": 11,
   "id": "04b01a59",
   "metadata": {},
   "outputs": [
    {
     "data": {
      "text/plain": [
       "<matplotlib.collections.PathCollection at 0x7fa61876ca60>"
      ]
     },
     "execution_count": 11,
     "metadata": {},
     "output_type": "execute_result"
    },
    {
     "data": {
      "image/png": "[encoded data removed]",
      "text/plain": [
       "<Figure size 432x288 with 1 Axes>"
      ]
     },
     "metadata": {},
     "output_type": "display_data"
    }
   ],
   "source": [
    "plt.plot(data['DEGER'])\n",
    "anomaly_mask = z_scores > threshold\n",
    "anomaly_indices = np.where(anomaly_mask)[0]\n",
    "anomaly_values = b_col[anomaly_indices]\n",
    "\n",
    "plt.scatter(anomaly_indices, anomaly_values, color='red')"
   ]
  },
  {
   "cell_type": "markdown",
   "id": "facafeb7",
   "metadata": {},
   "source": [
    "# One-Class SVM "
   ]
  },
  {
   "cell_type": "code",
   "execution_count": 12,
   "id": "d5a3f9af",
   "metadata": {},
   "outputs": [],
   "source": [
    "from sklearn.svm import OneClassSVM\n",
    "import pandas as pd\n",
    "\n",
    "# Veri setini yükle\n",
    "df = pd.read_excel(\"/Users/ideakadikoy/Desktop/anomali_data.xlsx\")"
   ]
  },
  {
   "cell_type": "code",
   "execution_count": 13,
   "id": "45146441",
   "metadata": {},
   "outputs": [],
   "source": [
    "# X matrisini hazırla\n",
    "X = df.values"
   ]
  },
  {
   "cell_type": "code",
   "execution_count": 14,
   "id": "18f29bbb",
   "metadata": {},
   "outputs": [],
   "source": [
    "# One-Class SVM modelini tanımla\n",
    "svm_model = OneClassSVM(kernel='rbf', degree=3, nu=0.05, gamma=0.1)"
   ]
  },
  {
   "cell_type": "code",
   "execution_count": 15,
   "id": "b5e1488d",
   "metadata": {},
   "outputs": [
    {
     "data": {
      "text/plain": [
       "OneClassSVM(gamma=0.1, nu=0.05)"
      ]
     },
     "execution_count": 15,
     "metadata": {},
     "output_type": "execute_result"
    }
   ],
   "source": [
    "# Modeli eğit\n",
    "svm_model.fit(X)\n"
   ]
  },
  {
   "cell_type": "code",
   "execution_count": 16,
   "id": "d64375e7",
   "metadata": {},
   "outputs": [
    {
     "name": "stdout",
     "output_type": "stream",
     "text": [
      "[-1  1  1  1 -1  1  1 -1 -1  1  1  1  1 -1  1  1  1  1  1 -1 -1 -1 -1  1\n",
      "  1 -1 -1 -1  1  1  1 -1 -1 -1 -1 -1 -1 -1 -1 -1  1  1  1 -1 -1  1  1  1\n",
      " -1 -1 -1  1  1  1 -1 -1  1  1 -1 -1  1  1 -1  1  1 -1 -1  1  1  1  1 -1\n",
      "  1  1  1 -1  1  1 -1 -1  1  1  1 -1 -1 -1 -1 -1 -1  1  1 -1  1  1  1 -1\n",
      " -1  1  1 -1  1  1 -1 -1 -1  1  1 -1 -1  1  1  1 -1 -1  1  1  1 -1  1  1\n",
      " -1  1  1  1 -1  1  1 -1 -1  1  1 -1 -1 -1 -1 -1 -1 -1  1  1 -1 -1  1  1\n",
      " -1 -1  1  1 -1 -1  1  1 -1 -1  1  1 -1 -1  1  1  1 -1  1  1 -1 -1 -1  1\n",
      " -1  1 -1 -1  1 -1 -1  1  1 -1 -1  1  1  1 -1  1  1  1 -1  1  1  1 -1  1\n",
      "  1 -1 -1 -1  1  1 -1 -1  1  1 -1  1  1  1 -1 -1  1  1 -1 -1  1  1 -1 -1\n",
      "  1  1 -1 -1  1  1  1  1  1 -1]\n"
     ]
    }
   ],
   "source": [
    "# Veri setindeki her bir gözlemi, One-Class SVM modeliyle tahmin et\n",
    "y_pred = svm_model.predict(X)\n",
    "print(y_pred)"
   ]
  },
  {
   "cell_type": "code",
   "execution_count": 17,
   "id": "172ccc3a",
   "metadata": {},
   "outputs": [],
   "source": [
    "# Tahmin sonuçlarını DataFrame'e aktar\n",
    "result_df = pd.DataFrame({'anomali': y_pred, 'veri': data['DEGER']})"
   ]
  },
  {
   "cell_type": "code",
   "execution_count": 18,
   "id": "2306b561",
   "metadata": {},
   "outputs": [],
   "source": [
    "# Anomali gözlemleri filtrele\n",
    "anomaly_df = result_df.loc[result_df['anomali'] == -1]"
   ]
  },
  {
   "cell_type": "code",
   "execution_count": 19,
   "id": "a4e33f9d",
   "metadata": {},
   "outputs": [
    {
     "data": {
      "image/png": "[encoded data removed]",
      "text/plain": [
       "<Figure size 432x288 with 1 Axes>"
      ]
     },
     "metadata": {},
     "output_type": "display_data"
    }
   ],
   "source": [
    "# Anomali gözlemleri görselleştir\n",
    "import matplotlib.pyplot as plt\n",
    "\n",
    "plt.plot(df['DEGER'])\n",
    "plt.scatter(anomaly_df.index, anomaly_df['veri'], color='red')\n",
    "plt.show()"
   ]
  }
 ],
 "metadata": {
  "kernelspec": {
   "display_name": "Python 3",
   "language": "python",
   "name": "python3"
  },
  "language_info": {
   "codemirror_mode": {
    "name": "ipython",
    "version": 3
   },
   "file_extension": ".py",
   "mimetype": "text/x-python",
   "name": "python",
   "nbconvert_exporter": "python",
   "pygments_lexer": "ipython3",
   "version": "3.8.2"
  }
 },
 "nbformat": 4,
 "nbformat_minor": 5
}
