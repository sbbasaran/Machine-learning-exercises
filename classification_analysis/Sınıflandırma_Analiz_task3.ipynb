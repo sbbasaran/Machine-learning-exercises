{
 "cells": [
  {
   "cell_type": "markdown",
   "id": "6c89185a",
   "metadata": {},
   "source": [
    "# Sınıflandırma analizi \n",
    "\n",
    "### Sınıflandırma Analizi  için 'Random Forest', 'K-En Yakın Komşuluk', 'Destek Vektör Makineleri', 'Logistic Regression' makine öğrenmesi teknikleri kullanacağız. \n",
    "\n",
    "    1. Veri Seti Yükleme ve Temizleme\n",
    "\n",
    "    2. Değişkenler ayırma ve Veri Kümesinde Eğitim/Test verileri ayırma\n",
    "    \n",
    "    3. Makine Öğrenmesi Modelini Eğitme\n",
    "        \n",
    "    4. Sınıflandırma Modelin Performans Karşılaştırması\n",
    "    \n",
    "    5. Sınıflandırıcı Modellerinin Konfisyon Matrisi\n"
   ]
  },
  {
   "cell_type": "markdown",
   "id": "87e6afe8",
   "metadata": {},
   "source": [
    "##   1. Veri Seti Yükleme ve Temizleme"
   ]
  },
  {
   "cell_type": "code",
   "execution_count": 1,
   "id": "5489b730",
   "metadata": {},
   "outputs": [
    {
     "name": "stderr",
     "output_type": "stream",
     "text": [
      "/Users/ideakadikoy/Desktop/anaconda3/lib/python3.8/site-packages/scipy/__init__.py:138: UserWarning: A NumPy version >=1.16.5 and <1.23.0 is required for this version of SciPy (detected version 1.23.3)\n",
      "  warnings.warn(f\"A NumPy version >={np_minversion} and <{np_maxversion} is required for this version of \"\n"
     ]
    }
   ],
   "source": [
    "# İlk olarak, Pandas ve Numpy ve Scikit-Learn kütüphanelerini yükleyeceğiz.\n",
    "import pandas as pd\n",
    "from sklearn.model_selection import train_test_split\n",
    "from sklearn.metrics import accuracy_score, precision_score, recall_score, f1_score\n",
    "import matplotlib.pyplot as plt\n",
    "from sklearn.metrics import confusion_matrix\n",
    "\n",
    "import pandas as pd\n",
    "import numpy as np"
   ]
  },
  {
   "cell_type": "code",
   "execution_count": 2,
   "id": "10e98dbc",
   "metadata": {},
   "outputs": [],
   "source": [
    "# Veri setini yükleme \n",
    "\n",
    "data = pd.read_excel(\"/Users/ideakadikoy/Desktop/siniflandirma_data.xlsx\")"
   ]
  },
  {
   "cell_type": "code",
   "execution_count": 3,
   "id": "b2db2f8a",
   "metadata": {},
   "outputs": [
    {
     "data": {
      "text/html": [
       "<div>\n",
       "<style scoped>\n",
       "    .dataframe tbody tr th:only-of-type {\n",
       "        vertical-align: middle;\n",
       "    }\n",
       "\n",
       "    .dataframe tbody tr th {\n",
       "        vertical-align: top;\n",
       "    }\n",
       "\n",
       "    .dataframe thead th {\n",
       "        text-align: right;\n",
       "    }\n",
       "</style>\n",
       "<table border=\"1\" class=\"dataframe\">\n",
       "  <thead>\n",
       "    <tr style=\"text-align: right;\">\n",
       "      <th></th>\n",
       "      <th>x</th>\n",
       "      <th>y</th>\n",
       "    </tr>\n",
       "  </thead>\n",
       "  <tbody>\n",
       "    <tr>\n",
       "      <th>count</th>\n",
       "      <td>986.000000</td>\n",
       "      <td>986.000000</td>\n",
       "    </tr>\n",
       "    <tr>\n",
       "      <th>mean</th>\n",
       "      <td>0.347448</td>\n",
       "      <td>0.577303</td>\n",
       "    </tr>\n",
       "    <tr>\n",
       "      <th>std</th>\n",
       "      <td>0.102182</td>\n",
       "      <td>0.208662</td>\n",
       "    </tr>\n",
       "    <tr>\n",
       "      <th>min</th>\n",
       "      <td>-0.087983</td>\n",
       "      <td>0.047147</td>\n",
       "    </tr>\n",
       "    <tr>\n",
       "      <th>25%</th>\n",
       "      <td>0.282001</td>\n",
       "      <td>0.440755</td>\n",
       "    </tr>\n",
       "    <tr>\n",
       "      <th>50%</th>\n",
       "      <td>0.353474</td>\n",
       "      <td>0.589722</td>\n",
       "    </tr>\n",
       "    <tr>\n",
       "      <th>75%</th>\n",
       "      <td>0.417592</td>\n",
       "      <td>0.716705</td>\n",
       "    </tr>\n",
       "    <tr>\n",
       "      <th>max</th>\n",
       "      <td>0.576219</td>\n",
       "      <td>1.000000</td>\n",
       "    </tr>\n",
       "  </tbody>\n",
       "</table>\n",
       "</div>"
      ],
      "text/plain": [
       "                x           y\n",
       "count  986.000000  986.000000\n",
       "mean     0.347448    0.577303\n",
       "std      0.102182    0.208662\n",
       "min     -0.087983    0.047147\n",
       "25%      0.282001    0.440755\n",
       "50%      0.353474    0.589722\n",
       "75%      0.417592    0.716705\n",
       "max      0.576219    1.000000"
      ]
     },
     "execution_count": 3,
     "metadata": {},
     "output_type": "execute_result"
    }
   ],
   "source": [
    "data.describe()"
   ]
  },
  {
   "cell_type": "code",
   "execution_count": 4,
   "id": "718cd99a",
   "metadata": {},
   "outputs": [
    {
     "name": "stdout",
     "output_type": "stream",
     "text": [
      "C2    365\n",
      "C1    183\n",
      "C4    173\n",
      "C3    169\n",
      "C5     96\n",
      "Name: Class, dtype: int64\n"
     ]
    }
   ],
   "source": [
    "# Veri setindeki sınıfların sayısı ve dağılımı\n",
    "print(data['Class'].value_counts())"
   ]
  },
  {
   "cell_type": "code",
   "execution_count": 5,
   "id": "dafb17ea",
   "metadata": {},
   "outputs": [
    {
     "data": {
      "image/png": "[encoded data removed]",
      "text/plain": [
       "<Figure size 432x288 with 1 Axes>"
      ]
     },
     "metadata": {
      "needs_background": "light"
     },
     "output_type": "display_data"
    }
   ],
   "source": [
    "import seaborn as sns\n",
    "\n",
    "sns.countplot(x='Class', data=data) #veri setindeki bir sütunu saymak ve görselleştirmek\"countplout\"\n",
    "plt.title('Sınıf Dağılımı')\n",
    "plt.show()"
   ]
  },
  {
   "cell_type": "code",
   "execution_count": 6,
   "id": "6a57d283",
   "metadata": {},
   "outputs": [
    {
     "data": {
      "image/png": "[encoded data removed]",
      "text/plain": [
       "<Figure size 409.25x360 with 6 Axes>"
      ]
     },
     "metadata": {
      "needs_background": "light"
     },
     "output_type": "display_data"
    }
   ],
   "source": [
    "sns.pairplot(data, hue='Class', vars=['x', 'y'])\n",
    "#Seaborn veri görselleştirme kütüphanesini kullanarak veri setindeki değişkenler arasındaki ilişkileri incelemek için pairplot() fonksiyonunu kullanılır.\n",
    "plt.title('Sınıf Bazında Nitelik Dağılımı')\n",
    "plt.show()"
   ]
  },
  {
   "cell_type": "markdown",
   "id": "a9350433",
   "metadata": {},
   "source": [
    "## 2. Değişkenler ayırma ve Veri Kümesinde Eğitim/Test verileri ayırma\n"
   ]
  },
  {
   "cell_type": "code",
   "execution_count": 7,
   "id": "c875c96e",
   "metadata": {},
   "outputs": [],
   "source": [
    "# Veri setindeki özellikler ve hedef değişkeni\n",
    "X = data.iloc[:, :-1]\n",
    "y = data.iloc[:, -1]"
   ]
  },
  {
   "cell_type": "code",
   "execution_count": 8,
   "id": "bc848ee8",
   "metadata": {},
   "outputs": [],
   "source": [
    "# Train-test bölünmesi\n",
    "X_train, X_test, y_train, y_test = train_test_split(X, y, test_size=0.3, random_state=42)"
   ]
  },
  {
   "cell_type": "markdown",
   "id": "1674443c",
   "metadata": {},
   "source": [
    "## 3. Makine Öğrenmesi Modelini Eğitme\n",
    "\n",
    "    SVM = verileri sınıflandırmak veya regresyon problemlerini çözmek için bir ayrıştırma hiper düzlemi kullanır ve bu düzlemdeki sınıf ayrımı, verilerin farklı sınıflara ait özelliklerini belirleyen destek vektörleri kullanarak yapılır.\n",
    "\n",
    "    KNN= örneklerin benzerliğine dayalı olarak sınıflandırma veya regresyon yapabilen bir makine öğrenmesi algoritmasıdır.\n",
    "\n",
    "    RF = çok sayıda karar ağacını (decision tree) kullanarak verileri eğiten ve tahmin yapabilen bir makine öğrenmesi algoritmasıdır.\n",
    "\n",
    "    LR= doğrusal bir ayrıştırma yüzeyi kullanarak sınıflar arasındaki ayrımı yapar ve sonuç olarak sınıfların olasılık dağılımını elde eder.\n"
   ]
  },
  {
   "cell_type": "code",
   "execution_count": 9,
   "id": "553f75da",
   "metadata": {},
   "outputs": [],
   "source": [
    "# scikit-learn kütüphanesinden Modellerimi çağıyoruz\n",
    "from sklearn.ensemble import RandomForestClassifier\n",
    "from sklearn.neighbors import KNeighborsClassifier\n",
    "from sklearn.svm import SVC\n",
    "from sklearn.linear_model import LogisticRegression"
   ]
  },
  {
   "cell_type": "code",
   "execution_count": 10,
   "id": "040215d7",
   "metadata": {},
   "outputs": [],
   "source": [
    "svm = SVC(kernel='poly', degree=2) #kernel='poly', degree=2 parametreleri, verileri polinom çekirdeği kullanarak sınıflandırmasını sağlar ve bu çekirdek için polinom derecesini 2 olarak ayarlar.\n",
    "rf = RandomForestClassifier(n_estimators=100, random_state=42) # random_state ile rastgelelik kontrol ediyoruz. # n_estimators=100 karar agacı sayısını belirler\n",
    "lr = LogisticRegression(fit_intercept=True, random_state = 42) # fit_intercept: Bu parametre, eğriye bir y-kesit eklemek için kullanılır.\n",
    "knn = KNeighborsClassifier(n_neighbors=5) # n_neighbors=5 komşu sayısını belirler\n"
   ]
  },
  {
   "cell_type": "code",
   "execution_count": 11,
   "id": "685d072d",
   "metadata": {},
   "outputs": [
    {
     "data": {
      "text/plain": [
       "LogisticRegression(random_state=42)"
      ]
     },
     "execution_count": 11,
     "metadata": {},
     "output_type": "execute_result"
    }
   ],
   "source": [
    "rf.fit(X_train, y_train)\n",
    "knn.fit(X_train, y_train)\n",
    "svm.fit(X_train, y_train)\n",
    "lr.fit(X_train, y_train)"
   ]
  },
  {
   "cell_type": "code",
   "execution_count": 12,
   "id": "42a0cdf1",
   "metadata": {},
   "outputs": [],
   "source": [
    "# Tahminleri yap\n",
    "rf_pred = rf.predict(X_test)\n",
    "knn_pred = knn.predict(X_test)\n",
    "svm_pred = svm.predict(X_test)\n",
    "lr_pred = lr.predict(X_test)"
   ]
  },
  {
   "cell_type": "markdown",
   "id": "f6b7dc1b",
   "metadata": {},
   "source": [
    "## 4. Sınıflandırma Modelin Performans Karşılaştırması"
   ]
  },
  {
   "cell_type": "markdown",
   "id": "7a159138",
   "metadata": {},
   "source": [
    "### Random Forest"
   ]
  },
  {
   "cell_type": "code",
   "execution_count": 13,
   "id": "091861dc",
   "metadata": {},
   "outputs": [],
   "source": [
    "# Test setinde modelin performansı\n",
    "rf_pred = rf.predict(X_test)\n",
    "rf_accuracy = accuracy_score(y_test, rf_pred)\n",
    "rf_precision = precision_score(y_test, rf_pred, average='weighted')\n",
    "rf_recall = recall_score(y_test, rf_pred, average='weighted')\n",
    "rf_f1 = f1_score(y_test, rf_pred, average='weighted')"
   ]
  },
  {
   "cell_type": "code",
   "execution_count": 14,
   "id": "0f820322",
   "metadata": {},
   "outputs": [
    {
     "name": "stdout",
     "output_type": "stream",
     "text": [
      "Random Forest: \n",
      "Accuracy:  0.9763513513513513\n",
      "Precision:  0.976574750279308\n",
      "Recall:  0.9763513513513513\n",
      "F1 Score:  0.9763822037331211\n"
     ]
    }
   ],
   "source": [
    "print(\"Random Forest: \")\n",
    "print(\"Accuracy: \", rf_accuracy)\n",
    "print(\"Precision: \", rf_precision)\n",
    "print(\"Recall: \", rf_recall)\n",
    "print(\"F1 Score: \", rf_f1)"
   ]
  },
  {
   "cell_type": "markdown",
   "id": "7f1892f4",
   "metadata": {},
   "source": [
    "### Destek Vektör Makinesi"
   ]
  },
  {
   "cell_type": "code",
   "execution_count": 15,
   "id": "ac45d340",
   "metadata": {},
   "outputs": [],
   "source": [
    "# Test setinde modelin performansı\n",
    "svm_pred = svm.predict(X_test)\n",
    "svm_accuracy = accuracy_score(y_test, svm_pred)\n",
    "svm_precision = precision_score(y_test,svm_pred, average='weighted')\n",
    "svm_recall = recall_score(y_test, svm_pred, average='weighted')\n",
    "svm_f1 = f1_score(y_test, svm_pred, average='weighted')"
   ]
  },
  {
   "cell_type": "code",
   "execution_count": 16,
   "id": "08e38f93",
   "metadata": {},
   "outputs": [
    {
     "name": "stdout",
     "output_type": "stream",
     "text": [
      "Destek Vektör Makinesi: \n",
      "Accuracy:  0.9459459459459459\n",
      "Precision:  0.9489555037083319\n",
      "Recall:  0.9459459459459459\n",
      "F1 Score:  0.9453931932496726\n"
     ]
    }
   ],
   "source": [
    "print(\"Destek Vektör Makinesi: \")\n",
    "print(\"Accuracy: \", svm_accuracy)\n",
    "print(\"Precision: \", svm_precision)\n",
    "print(\"Recall: \", svm_recall)\n",
    "print(\"F1 Score: \", svm_f1)"
   ]
  },
  {
   "cell_type": "markdown",
   "id": "3c39d9b3",
   "metadata": {},
   "source": [
    "### K-En Yakın Komşuluk"
   ]
  },
  {
   "cell_type": "code",
   "execution_count": 17,
   "id": "850b8526",
   "metadata": {},
   "outputs": [],
   "source": [
    "# Test setinde modelin performansı\n",
    "knn_pred = knn.predict(X_test)\n",
    "knn_accuracy = accuracy_score(y_test, knn_pred)\n",
    "knn_precision = precision_score(y_test,knn_pred, average='weighted')\n",
    "knn_recall = recall_score(y_test, knn_pred, average='weighted')\n",
    "knn_f1 = f1_score(y_test, knn_pred, average='weighted')"
   ]
  },
  {
   "cell_type": "code",
   "execution_count": 18,
   "id": "dff0d6a3",
   "metadata": {},
   "outputs": [
    {
     "name": "stdout",
     "output_type": "stream",
     "text": [
      "K-En Yakın Komşuluk: \n",
      "Accuracy:  0.9695945945945946\n",
      "Precision:  0.9700422631655964\n",
      "Recall:  0.9695945945945946\n",
      "F1 Score:  0.9694230252663458\n"
     ]
    }
   ],
   "source": [
    "print(\"K-En Yakın Komşuluk: \")\n",
    "print(\"Accuracy: \", knn_accuracy)\n",
    "print(\"Precision: \", knn_precision)\n",
    "print(\"Recall: \", knn_recall)\n",
    "print(\"F1 Score: \", knn_f1)"
   ]
  },
  {
   "cell_type": "markdown",
   "id": "facdbbe7",
   "metadata": {},
   "source": [
    "### Lojistik Regresyon"
   ]
  },
  {
   "cell_type": "code",
   "execution_count": 19,
   "id": "86c35738",
   "metadata": {},
   "outputs": [],
   "source": [
    "# Test setinde modelin performansı\n",
    "lr_pred = lr.predict(X_test)\n",
    "lr_accuracy = accuracy_score(y_test, lr_pred)\n",
    "lr_precision = precision_score(y_test,lr_pred, average='weighted')\n",
    "lr_recall = recall_score(y_test, lr_pred, average='weighted')\n",
    "lr_f1 = f1_score(y_test, lr_pred, average='weighted')"
   ]
  },
  {
   "cell_type": "code",
   "execution_count": 20,
   "id": "67eddedb",
   "metadata": {},
   "outputs": [
    {
     "name": "stdout",
     "output_type": "stream",
     "text": [
      "Lojistik Regresyon: \n",
      "Accuracy:  0.7195945945945946\n",
      "Precision:  0.6300043661245992\n",
      "Recall:  0.7195945945945946\n",
      "F1 Score:  0.6609961208433195\n"
     ]
    }
   ],
   "source": [
    "print(\"Lojistik Regresyon: \")\n",
    "print(\"Accuracy: \", lr_accuracy)\n",
    "print(\"Precision: \", lr_precision)\n",
    "print(\"Recall: \", lr_recall)\n",
    "print(\"F1 Score: \", lr_f1)"
   ]
  },
  {
   "cell_type": "markdown",
   "id": "8fb2e8ae",
   "metadata": {},
   "source": [
    "##  5. Sınıflandırıcı Modellerinin Konfisyon Matrisi\n"
   ]
  },
  {
   "cell_type": "code",
   "execution_count": 21,
   "id": "50f2212f",
   "metadata": {},
   "outputs": [
    {
     "name": "stdout",
     "output_type": "stream",
     "text": [
      "K-En Yakın Komşuluk Konfisyon Matrisi: \n",
      "[[50  1  3  1  0]\n",
      " [ 0 98  0  0  0]\n",
      " [ 0  2 53  0  0]\n",
      " [ 1  0  1 53  0]\n",
      " [ 0  0  0  0 33]]\n"
     ]
    }
   ],
   "source": [
    "print(\"K-En Yakın Komşuluk Konfisyon Matrisi: \")\n",
    "\n",
    "from sklearn.metrics import confusion_matrix\n",
    "knn = confusion_matrix(y_test, knn_pred)\n",
    "print(knn)"
   ]
  },
  {
   "cell_type": "code",
   "execution_count": 22,
   "id": "f383fcb2",
   "metadata": {},
   "outputs": [
    {
     "name": "stdout",
     "output_type": "stream",
     "text": [
      "Lojistik Regresyon Konfisyon Matrisi: \n",
      "[[42 13  0  0  0]\n",
      " [ 0 98  0  0  0]\n",
      " [ 0 39  0 16  0]\n",
      " [ 2  0 10 42  1]\n",
      " [ 1  0  0  1 31]]\n"
     ]
    }
   ],
   "source": [
    "print(\"Lojistik Regresyon Konfisyon Matrisi: \")\n",
    "\n",
    "from sklearn.metrics import confusion_matrix\n",
    "lr = confusion_matrix(y_test, lr_pred)\n",
    "print(lr)"
   ]
  },
  {
   "cell_type": "code",
   "execution_count": 23,
   "id": "848a88e0",
   "metadata": {},
   "outputs": [
    {
     "name": "stdout",
     "output_type": "stream",
     "text": [
      "Destek Vektör Makinesi Konfisyon Matrisi: \n",
      "[[51  4  0  0  0]\n",
      " [ 1 97  0  0  0]\n",
      " [ 1  6 46  2  0]\n",
      " [ 1  0  0 54  0]\n",
      " [ 0  0  0  1 32]]\n"
     ]
    }
   ],
   "source": [
    "print(\"Destek Vektör Makinesi Konfisyon Matrisi: \")\n",
    "\n",
    "from sklearn.metrics import confusion_matrix\n",
    "svm = confusion_matrix(y_test, svm_pred)\n",
    "print(svm)"
   ]
  },
  {
   "cell_type": "code",
   "execution_count": 24,
   "id": "6211f1df",
   "metadata": {},
   "outputs": [
    {
     "name": "stdout",
     "output_type": "stream",
     "text": [
      "Random Forest Konfisyon Matrisi: \n",
      "[[53  1  0  1  0]\n",
      " [ 1 95  2  0  0]\n",
      " [ 0  1 54  0  0]\n",
      " [ 0  0  1 54  0]\n",
      " [ 0  0  0  0 33]]\n"
     ]
    }
   ],
   "source": [
    "print(\"Random Forest Konfisyon Matrisi: \")\n",
    "\n",
    "from sklearn.metrics import confusion_matrix\n",
    "rf = confusion_matrix(y_test, rf_pred)\n",
    "print(rf)"
   ]
  },
  {
   "cell_type": "code",
   "execution_count": null,
   "id": "5e1dc56e",
   "metadata": {},
   "outputs": [],
   "source": []
  }
 ],
 "metadata": {
  "kernelspec": {
   "display_name": "Python 3",
   "language": "python",
   "name": "python3"
  },
  "language_info": {
   "codemirror_mode": {
    "name": "ipython",
    "version": 3
   },
   "file_extension": ".py",
   "mimetype": "text/x-python",
   "name": "python",
   "nbconvert_exporter": "python",
   "pygments_lexer": "ipython3",
   "version": "3.8.2"
  }
 },
 "nbformat": 4,
 "nbformat_minor": 5
}
